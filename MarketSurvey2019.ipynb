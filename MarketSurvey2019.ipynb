{
 "cells": [
  {
   "cell_type": "code",
   "execution_count": 391,
   "metadata": {},
   "outputs": [
    {
     "data": {
      "text/html": [
       "<div>\n",
       "<style scoped>\n",
       "    .dataframe tbody tr th:only-of-type {\n",
       "        vertical-align: middle;\n",
       "    }\n",
       "\n",
       "    .dataframe tbody tr th {\n",
       "        vertical-align: top;\n",
       "    }\n",
       "\n",
       "    .dataframe thead th {\n",
       "        text-align: right;\n",
       "    }\n",
       "</style>\n",
       "<table border=\"1\" class=\"dataframe\">\n",
       "  <thead>\n",
       "    <tr style=\"text-align: right;\">\n",
       "      <th></th>\n",
       "      <th>Category</th>\n",
       "      <th>StockProdRegular</th>\n",
       "      <th>ScoreLayananStock</th>\n",
       "    </tr>\n",
       "    <tr>\n",
       "      <th>IDRetailer</th>\n",
       "      <th></th>\n",
       "      <th></th>\n",
       "      <th></th>\n",
       "    </tr>\n",
       "  </thead>\n",
       "  <tbody>\n",
       "    <tr>\n",
       "      <th>1</th>\n",
       "      <td>Cat-O</td>\n",
       "      <td>8</td>\n",
       "      <td>7</td>\n",
       "    </tr>\n",
       "    <tr>\n",
       "      <th>2</th>\n",
       "      <td>Cat-O</td>\n",
       "      <td>5</td>\n",
       "      <td>8</td>\n",
       "    </tr>\n",
       "    <tr>\n",
       "      <th>3</th>\n",
       "      <td>Cat-O</td>\n",
       "      <td>6</td>\n",
       "      <td>7</td>\n",
       "    </tr>\n",
       "    <tr>\n",
       "      <th>4</th>\n",
       "      <td>Cat-O</td>\n",
       "      <td>51</td>\n",
       "      <td>9</td>\n",
       "    </tr>\n",
       "    <tr>\n",
       "      <th>5</th>\n",
       "      <td>Cat-O</td>\n",
       "      <td>5</td>\n",
       "      <td>8</td>\n",
       "    </tr>\n",
       "  </tbody>\n",
       "</table>\n",
       "</div>"
      ],
      "text/plain": [
       "           Category  StockProdRegular  ScoreLayananStock\n",
       "IDRetailer                                              \n",
       "1             Cat-O                 8                  7\n",
       "2             Cat-O                 5                  8\n",
       "3             Cat-O                 6                  7\n",
       "4             Cat-O                51                  9\n",
       "5             Cat-O                 5                  8"
      ]
     },
     "execution_count": 391,
     "metadata": {},
     "output_type": "execute_result"
    }
   ],
   "source": [
    "\n",
    "# Import Data yang diperlukan\n",
    "import pandas as pd \n",
    "import numpy as np\n",
    "import matplotlib.pyplot as plt\n",
    "import seaborn as sns\n",
    "%matplotlib inline  \n",
    "from sklearn.preprocessing import StandardScaler,MinMaxScaler\n",
    "from sklearn.cluster import KMeans\n",
    "from sklearn.metrics import silhouette_score\n",
    "\n",
    "# Baca CSV data dengan menghilangkan space di setiap col nya\n",
    "MarketSurvey2019 = pd.read_csv('https://raw.githubusercontent.com/dhorihasan/dataset/main/MarketSurvey2019v1.csv',sep=';',skipinitialspace=True,index_col='IDRetailer')\n",
    "\n",
    "#Sample Data paling atas\n",
    "MarketSurvey2019.head()"
   ]
  },
  {
   "cell_type": "code",
   "execution_count": 392,
   "metadata": {},
   "outputs": [
    {
     "data": {
      "text/plain": [
       "(2963, 3)"
      ]
     },
     "execution_count": 392,
     "metadata": {},
     "output_type": "execute_result"
    }
   ],
   "source": [
    "# Melihat Jumlah Baris dan Kolom\n",
    "MarketSurvey2019.shape"
   ]
  },
  {
   "cell_type": "code",
   "execution_count": 393,
   "metadata": {},
   "outputs": [
    {
     "name": "stdout",
     "output_type": "stream",
     "text": [
      "<class 'pandas.core.frame.DataFrame'>\n",
      "Int64Index: 2963 entries, 1 to 2963\n",
      "Data columns (total 3 columns):\n",
      " #   Column             Non-Null Count  Dtype \n",
      "---  ------             --------------  ----- \n",
      " 0   Category           2963 non-null   object\n",
      " 1   StockProdRegular   2963 non-null   int64 \n",
      " 2   ScoreLayananStock  2963 non-null   int64 \n",
      "dtypes: int64(2), object(1)\n",
      "memory usage: 92.6+ KB\n"
     ]
    }
   ],
   "source": [
    "# Melihat Missing data dan type data\n",
    "MarketSurvey2019.info()"
   ]
  },
  {
   "cell_type": "code",
   "execution_count": 394,
   "metadata": {},
   "outputs": [
    {
     "data": {
      "text/html": [
       "<div>\n",
       "<style scoped>\n",
       "    .dataframe tbody tr th:only-of-type {\n",
       "        vertical-align: middle;\n",
       "    }\n",
       "\n",
       "    .dataframe tbody tr th {\n",
       "        vertical-align: top;\n",
       "    }\n",
       "\n",
       "    .dataframe thead th {\n",
       "        text-align: right;\n",
       "    }\n",
       "</style>\n",
       "<table border=\"1\" class=\"dataframe\">\n",
       "  <thead>\n",
       "    <tr style=\"text-align: right;\">\n",
       "      <th></th>\n",
       "      <th>Category</th>\n",
       "      <th>StockProdRegular</th>\n",
       "      <th>ScoreLayananStock</th>\n",
       "    </tr>\n",
       "    <tr>\n",
       "      <th>IDRetailer</th>\n",
       "      <th></th>\n",
       "      <th></th>\n",
       "      <th></th>\n",
       "    </tr>\n",
       "  </thead>\n",
       "  <tbody>\n",
       "    <tr>\n",
       "      <th>1</th>\n",
       "      <td>2</td>\n",
       "      <td>8</td>\n",
       "      <td>7</td>\n",
       "    </tr>\n",
       "    <tr>\n",
       "      <th>2</th>\n",
       "      <td>2</td>\n",
       "      <td>5</td>\n",
       "      <td>8</td>\n",
       "    </tr>\n",
       "    <tr>\n",
       "      <th>3</th>\n",
       "      <td>2</td>\n",
       "      <td>6</td>\n",
       "      <td>7</td>\n",
       "    </tr>\n",
       "    <tr>\n",
       "      <th>4</th>\n",
       "      <td>2</td>\n",
       "      <td>51</td>\n",
       "      <td>9</td>\n",
       "    </tr>\n",
       "    <tr>\n",
       "      <th>5</th>\n",
       "      <td>2</td>\n",
       "      <td>5</td>\n",
       "      <td>8</td>\n",
       "    </tr>\n",
       "  </tbody>\n",
       "</table>\n",
       "</div>"
      ],
      "text/plain": [
       "            Category  StockProdRegular  ScoreLayananStock\n",
       "IDRetailer                                               \n",
       "1                  2                 8                  7\n",
       "2                  2                 5                  8\n",
       "3                  2                 6                  7\n",
       "4                  2                51                  9\n",
       "5                  2                 5                  8"
      ]
     },
     "execution_count": 394,
     "metadata": {},
     "output_type": "execute_result"
    }
   ],
   "source": [
    "# Buat maping untuk Columns Category\n",
    "# dimana ada Cat-A = 0, Cat-H = 1, Cat-O = 2\n",
    "\n",
    "MarketSurvey2019['Category'] = MarketSurvey2019['Category'].map({'Cat-A':0,'Cat-H':1,'Cat-O':2})\n",
    "\n",
    "# Menghapus value yang NAN serta merubah semua type data menjadi int\n",
    "#MarketSurvey2019 = MarketSurvey2019.dropna()\n",
    "\n",
    "# Melihat data teratas\n",
    "MarketSurvey2019.head()"
   ]
  },
  {
   "cell_type": "code",
   "execution_count": 395,
   "metadata": {},
   "outputs": [
    {
     "data": {
      "text/plain": [
       "(2963, 3)"
      ]
     },
     "execution_count": 395,
     "metadata": {},
     "output_type": "execute_result"
    }
   ],
   "source": [
    "# Melihat Jumlah Baris dan Kolom\n",
    "MarketSurvey2019.shape"
   ]
  },
  {
   "cell_type": "code",
   "execution_count": 396,
   "metadata": {},
   "outputs": [
    {
     "name": "stdout",
     "output_type": "stream",
     "text": [
      "<class 'pandas.core.frame.DataFrame'>\n",
      "Int64Index: 2963 entries, 1 to 2963\n",
      "Data columns (total 3 columns):\n",
      " #   Column             Non-Null Count  Dtype\n",
      "---  ------             --------------  -----\n",
      " 0   Category           2963 non-null   int64\n",
      " 1   StockProdRegular   2963 non-null   int64\n",
      " 2   ScoreLayananStock  2963 non-null   int64\n",
      "dtypes: int64(3)\n",
      "memory usage: 92.6 KB\n"
     ]
    }
   ],
   "source": [
    "# Melihat type data\n",
    "MarketSurvey2019.info()"
   ]
  },
  {
   "cell_type": "code",
   "execution_count": 397,
   "metadata": {},
   "outputs": [
    {
     "data": {
      "text/plain": [
       "Text(0.5, 1.0, 'StockProdRegular')"
      ]
     },
     "execution_count": 397,
     "metadata": {},
     "output_type": "execute_result"
    },
    {
     "data": {
      "image/png": "[encoded data removed]",
      "text/plain": [
       "<Figure size 432x288 with 1 Axes>"
      ]
     },
     "metadata": {
      "needs_background": "light"
     },
     "output_type": "display_data"
    }
   ],
   "source": [
    "# Deteksi Outlier Data di Stock Regular Produk\n",
    "plt.boxplot(MarketSurvey2019['StockProdRegular'])\n",
    "plt.title('StockProdRegular')\n"
   ]
  },
  {
   "cell_type": "code",
   "execution_count": 398,
   "metadata": {},
   "outputs": [
    {
     "data": {
      "text/html": [
       "<div>\n",
       "<style scoped>\n",
       "    .dataframe tbody tr th:only-of-type {\n",
       "        vertical-align: middle;\n",
       "    }\n",
       "\n",
       "    .dataframe tbody tr th {\n",
       "        vertical-align: top;\n",
       "    }\n",
       "\n",
       "    .dataframe thead th {\n",
       "        text-align: right;\n",
       "    }\n",
       "</style>\n",
       "<table border=\"1\" class=\"dataframe\">\n",
       "  <thead>\n",
       "    <tr style=\"text-align: right;\">\n",
       "      <th></th>\n",
       "      <th>Category</th>\n",
       "      <th>StockProdRegular</th>\n",
       "      <th>ScoreLayananStock</th>\n",
       "    </tr>\n",
       "  </thead>\n",
       "  <tbody>\n",
       "    <tr>\n",
       "      <th>count</th>\n",
       "      <td>2963.000000</td>\n",
       "      <td>2963.000000</td>\n",
       "      <td>2963.00000</td>\n",
       "    </tr>\n",
       "    <tr>\n",
       "      <th>mean</th>\n",
       "      <td>0.213972</td>\n",
       "      <td>10.438745</td>\n",
       "      <td>9.96220</td>\n",
       "    </tr>\n",
       "    <tr>\n",
       "      <th>std</th>\n",
       "      <td>0.575302</td>\n",
       "      <td>16.439150</td>\n",
       "      <td>40.68793</td>\n",
       "    </tr>\n",
       "    <tr>\n",
       "      <th>min</th>\n",
       "      <td>0.000000</td>\n",
       "      <td>0.000000</td>\n",
       "      <td>1.00000</td>\n",
       "    </tr>\n",
       "    <tr>\n",
       "      <th>25%</th>\n",
       "      <td>0.000000</td>\n",
       "      <td>1.000000</td>\n",
       "      <td>8.00000</td>\n",
       "    </tr>\n",
       "    <tr>\n",
       "      <th>50%</th>\n",
       "      <td>0.000000</td>\n",
       "      <td>6.000000</td>\n",
       "      <td>8.00000</td>\n",
       "    </tr>\n",
       "    <tr>\n",
       "      <th>75%</th>\n",
       "      <td>0.000000</td>\n",
       "      <td>13.000000</td>\n",
       "      <td>9.00000</td>\n",
       "    </tr>\n",
       "    <tr>\n",
       "      <th>max</th>\n",
       "      <td>2.000000</td>\n",
       "      <td>400.000000</td>\n",
       "      <td>999.00000</td>\n",
       "    </tr>\n",
       "  </tbody>\n",
       "</table>\n",
       "</div>"
      ],
      "text/plain": [
       "          Category  StockProdRegular  ScoreLayananStock\n",
       "count  2963.000000       2963.000000         2963.00000\n",
       "mean      0.213972         10.438745            9.96220\n",
       "std       0.575302         16.439150           40.68793\n",
       "min       0.000000          0.000000            1.00000\n",
       "25%       0.000000          1.000000            8.00000\n",
       "50%       0.000000          6.000000            8.00000\n",
       "75%       0.000000         13.000000            9.00000\n",
       "max       2.000000        400.000000          999.00000"
      ]
     },
     "execution_count": 398,
     "metadata": {},
     "output_type": "execute_result"
    }
   ],
   "source": [
    "MarketSurvey2019.describe()"
   ]
  },
  {
   "cell_type": "code",
   "execution_count": 399,
   "metadata": {},
   "outputs": [],
   "source": [
    "# Hitung Outlier dan menghapusnya\n",
    "\n",
    "Q1=np.percentile(MarketSurvey2019['StockProdRegular'],25,interpolation='midpoint')\n",
    "Q2=np.percentile(MarketSurvey2019['StockProdRegular'],50,interpolation='midpoint')\n",
    "Q3=np.percentile(MarketSurvey2019['StockProdRegular'],75,interpolation='midpoint')\n",
    "\n",
    "IQR=Q3-Q1\n",
    "lower_limit = Q1 - 1.5 * IQR\n",
    "upper_limit = Q3 + 1.5 * IQR\n",
    "outlier=[]\n",
    "for x in MarketSurvey2019['StockProdRegular']:\n",
    "    if((x>upper_limit)or(x<lower_limit)):\n",
    "        outlier.append(x)"
   ]
  },
  {
   "cell_type": "code",
   "execution_count": 400,
   "metadata": {},
   "outputs": [
    {
     "data": {
      "text/plain": [
       "-17.0"
      ]
     },
     "execution_count": 400,
     "metadata": {},
     "output_type": "execute_result"
    }
   ],
   "source": [
    "lower_limit"
   ]
  },
  {
   "cell_type": "code",
   "execution_count": 401,
   "metadata": {},
   "outputs": [
    {
     "data": {
      "text/plain": [
       "31.0"
      ]
     },
     "execution_count": 401,
     "metadata": {},
     "output_type": "execute_result"
    }
   ],
   "source": [
    "upper_limit"
   ]
  },
  {
   "cell_type": "code",
   "execution_count": 402,
   "metadata": {},
   "outputs": [
    {
     "data": {
      "text/plain": [
       "[51,\n",
       " 48,\n",
       " 70,\n",
       " 40,\n",
       " 50,\n",
       " 45,\n",
       " 50,\n",
       " 35,\n",
       " 60,\n",
       " 38,\n",
       " 41,\n",
       " 45,\n",
       " 35,\n",
       " 41,\n",
       " 46,\n",
       " 50,\n",
       " 49,\n",
       " 43,\n",
       " 35,\n",
       " 35,\n",
       " 35,\n",
       " 56,\n",
       " 76,\n",
       " 35,\n",
       " 50,\n",
       " 100,\n",
       " 33,\n",
       " 40,\n",
       " 33,\n",
       " 52,\n",
       " 35,\n",
       " 50,\n",
       " 38,\n",
       " 45,\n",
       " 50,\n",
       " 50,\n",
       " 35,\n",
       " 120,\n",
       " 70,\n",
       " 68,\n",
       " 70,\n",
       " 45,\n",
       " 45,\n",
       " 75,\n",
       " 83,\n",
       " 35,\n",
       " 250,\n",
       " 40,\n",
       " 33,\n",
       " 67,\n",
       " 40,\n",
       " 34,\n",
       " 35,\n",
       " 54,\n",
       " 80,\n",
       " 52,\n",
       " 35,\n",
       " 35,\n",
       " 50,\n",
       " 45,\n",
       " 58,\n",
       " 63,\n",
       " 70,\n",
       " 35,\n",
       " 60,\n",
       " 45,\n",
       " 80,\n",
       " 200,\n",
       " 70,\n",
       " 100,\n",
       " 80,\n",
       " 100,\n",
       " 50,\n",
       " 100,\n",
       " 78,\n",
       " 50,\n",
       " 80,\n",
       " 35,\n",
       " 100,\n",
       " 50,\n",
       " 54,\n",
       " 43,\n",
       " 42,\n",
       " 33,\n",
       " 48,\n",
       " 50,\n",
       " 34,\n",
       " 46,\n",
       " 42,\n",
       " 42,\n",
       " 55,\n",
       " 66,\n",
       " 33,\n",
       " 35,\n",
       " 100,\n",
       " 60,\n",
       " 50,\n",
       " 40,\n",
       " 40,\n",
       " 80,\n",
       " 50,\n",
       " 44,\n",
       " 41,\n",
       " 200,\n",
       " 60,\n",
       " 74,\n",
       " 48,\n",
       " 60,\n",
       " 100,\n",
       " 50,\n",
       " 400,\n",
       " 32,\n",
       " 86,\n",
       " 64,\n",
       " 32,\n",
       " 60,\n",
       " 68,\n",
       " 64,\n",
       " 48,\n",
       " 33,\n",
       " 35,\n",
       " 35,\n",
       " 35,\n",
       " 35,\n",
       " 60,\n",
       " 50,\n",
       " 57,\n",
       " 70,\n",
       " 150,\n",
       " 35,\n",
       " 50,\n",
       " 32,\n",
       " 35,\n",
       " 35,\n",
       " 50,\n",
       " 81,\n",
       " 50,\n",
       " 53,\n",
       " 50,\n",
       " 35,\n",
       " 32,\n",
       " 63,\n",
       " 60,\n",
       " 70,\n",
       " 60,\n",
       " 40,\n",
       " 55,\n",
       " 34,\n",
       " 34,\n",
       " 89,\n",
       " 42]"
      ]
     },
     "execution_count": 402,
     "metadata": {},
     "output_type": "execute_result"
    }
   ],
   "source": [
    "outlier"
   ]
  },
  {
   "cell_type": "code",
   "execution_count": 403,
   "metadata": {},
   "outputs": [
    {
     "data": {
      "text/plain": [
       "Int64Index([   4,    9,   84,  128,  135,  140,  146,  162,  177,  183,\n",
       "            ...\n",
       "            2451, 2488, 2492, 2536, 2719, 2799, 2843, 2863, 2865, 2884],\n",
       "           dtype='int64', name='IDRetailer', length=151)"
      ]
     },
     "execution_count": 403,
     "metadata": {},
     "output_type": "execute_result"
    }
   ],
   "source": [
    "# Melihat Outlier dengan index\n",
    "outlier_index=MarketSurvey2019['StockProdRegular']>upper_limit\n",
    "MarketSurvey2019.loc[outlier_index].index"
   ]
  },
  {
   "cell_type": "code",
   "execution_count": 404,
   "metadata": {},
   "outputs": [],
   "source": [
    "# Menghapus outlier sesuai index\n",
    "# MarketSurvey2019 = MarketSurvey2019.drop(MarketSurvey2019.loc[outlier_index].index) -> Sama hasilnya dengan script dibawah ini\n",
    "MarketSurvey2019.drop(MarketSurvey2019.loc[outlier_index].index,inplace=True)"
   ]
  },
  {
   "cell_type": "code",
   "execution_count": 405,
   "metadata": {},
   "outputs": [
    {
     "data": {
      "text/plain": [
       "Text(0.5, 1.0, 'StockProdRegular')"
      ]
     },
     "execution_count": 405,
     "metadata": {},
     "output_type": "execute_result"
    },
    {
     "data": {
      "image/png": "[encoded data removed]",
      "text/plain": [
       "<Figure size 432x288 with 1 Axes>"
      ]
     },
     "metadata": {
      "needs_background": "light"
     },
     "output_type": "display_data"
    }
   ],
   "source": [
    "# Deteksi Outlier lagi setelah dihapus datanya di Stock Regular Produk\n",
    "plt.boxplot(MarketSurvey2019['StockProdRegular'])\n",
    "plt.title('StockProdRegular')"
   ]
  },
  {
   "cell_type": "code",
   "execution_count": 406,
   "metadata": {},
   "outputs": [
    {
     "data": {
      "text/plain": [
       "Text(0.5, 1.0, 'ScoreLayananStock')"
      ]
     },
     "execution_count": 406,
     "metadata": {},
     "output_type": "execute_result"
    },
    {
     "data": {
      "image/png": "[encoded data removed]",
      "text/plain": [
       "<Figure size 432x288 with 1 Axes>"
      ]
     },
     "metadata": {
      "needs_background": "light"
     },
     "output_type": "display_data"
    }
   ],
   "source": [
    "# Deteksi Outlier di ScoreLayananStock\n",
    "plt.boxplot(MarketSurvey2019['ScoreLayananStock'])\n",
    "plt.title('ScoreLayananStock')"
   ]
  },
  {
   "cell_type": "code",
   "execution_count": 407,
   "metadata": {},
   "outputs": [],
   "source": [
    "# Hitung Outlier dan menghapusnya\n",
    "\n",
    "Q1=np.percentile(MarketSurvey2019['ScoreLayananStock'],25,interpolation='midpoint')\n",
    "Q2=np.percentile(MarketSurvey2019['ScoreLayananStock'],50,interpolation='midpoint')\n",
    "Q3=np.percentile(MarketSurvey2019['ScoreLayananStock'],75,interpolation='midpoint')\n",
    "\n",
    "IQR=Q3-Q1\n",
    "lower_limit = Q1 - 1.5 * IQR\n",
    "upper_limit = Q3 + 1.5 * IQR\n",
    "outlier=[]\n",
    "for x in MarketSurvey2019['ScoreLayananStock']:\n",
    "    if((x>upper_limit)or(x<lower_limit)):\n",
    "        outlier.append(x)\n"
   ]
  },
  {
   "cell_type": "code",
   "execution_count": 408,
   "metadata": {},
   "outputs": [],
   "source": [
    "outlier_index=MarketSurvey2019['ScoreLayananStock']>upper_limit\n",
    "MarketSurvey2019.loc[outlier_index].index\n",
    "MarketSurvey2019.drop(MarketSurvey2019.loc[outlier_index].index,inplace=True)"
   ]
  },
  {
   "cell_type": "code",
   "execution_count": 409,
   "metadata": {},
   "outputs": [
    {
     "data": {
      "text/plain": [
       "Text(0.5, 1.0, 'ScoreLayananStock')"
      ]
     },
     "execution_count": 409,
     "metadata": {},
     "output_type": "execute_result"
    },
    {
     "data": {
      "image/png": "[encoded data removed]",
      "text/plain": [
       "<Figure size 432x288 with 1 Axes>"
      ]
     },
     "metadata": {
      "needs_background": "light"
     },
     "output_type": "display_data"
    }
   ],
   "source": [
    "# Deteksi Outlier lagi setelah dihapus datanya di Stock Regular Produk\n",
    "plt.boxplot(MarketSurvey2019['ScoreLayananStock'])\n",
    "plt.title('ScoreLayananStock')"
   ]
  },
  {
   "cell_type": "code",
   "execution_count": 410,
   "metadata": {},
   "outputs": [
    {
     "data": {
      "text/html": [
       "<div>\n",
       "<style scoped>\n",
       "    .dataframe tbody tr th:only-of-type {\n",
       "        vertical-align: middle;\n",
       "    }\n",
       "\n",
       "    .dataframe tbody tr th {\n",
       "        vertical-align: top;\n",
       "    }\n",
       "\n",
       "    .dataframe thead th {\n",
       "        text-align: right;\n",
       "    }\n",
       "</style>\n",
       "<table border=\"1\" class=\"dataframe\">\n",
       "  <thead>\n",
       "    <tr style=\"text-align: right;\">\n",
       "      <th></th>\n",
       "      <th>Category</th>\n",
       "      <th>StockProdRegular</th>\n",
       "      <th>ScoreLayananStock</th>\n",
       "    </tr>\n",
       "  </thead>\n",
       "  <tbody>\n",
       "    <tr>\n",
       "      <th>count</th>\n",
       "      <td>2807.000000</td>\n",
       "      <td>2807.000000</td>\n",
       "      <td>2807.000000</td>\n",
       "    </tr>\n",
       "    <tr>\n",
       "      <th>mean</th>\n",
       "      <td>0.221233</td>\n",
       "      <td>7.815105</td>\n",
       "      <td>8.287496</td>\n",
       "    </tr>\n",
       "    <tr>\n",
       "      <th>std</th>\n",
       "      <td>0.584187</td>\n",
       "      <td>7.735355</td>\n",
       "      <td>1.220371</td>\n",
       "    </tr>\n",
       "    <tr>\n",
       "      <th>min</th>\n",
       "      <td>0.000000</td>\n",
       "      <td>0.000000</td>\n",
       "      <td>1.000000</td>\n",
       "    </tr>\n",
       "    <tr>\n",
       "      <th>25%</th>\n",
       "      <td>0.000000</td>\n",
       "      <td>0.000000</td>\n",
       "      <td>8.000000</td>\n",
       "    </tr>\n",
       "    <tr>\n",
       "      <th>50%</th>\n",
       "      <td>0.000000</td>\n",
       "      <td>6.000000</td>\n",
       "      <td>8.000000</td>\n",
       "    </tr>\n",
       "    <tr>\n",
       "      <th>75%</th>\n",
       "      <td>0.000000</td>\n",
       "      <td>12.000000</td>\n",
       "      <td>9.000000</td>\n",
       "    </tr>\n",
       "    <tr>\n",
       "      <th>max</th>\n",
       "      <td>2.000000</td>\n",
       "      <td>31.000000</td>\n",
       "      <td>10.000000</td>\n",
       "    </tr>\n",
       "  </tbody>\n",
       "</table>\n",
       "</div>"
      ],
      "text/plain": [
       "          Category  StockProdRegular  ScoreLayananStock\n",
       "count  2807.000000       2807.000000        2807.000000\n",
       "mean      0.221233          7.815105           8.287496\n",
       "std       0.584187          7.735355           1.220371\n",
       "min       0.000000          0.000000           1.000000\n",
       "25%       0.000000          0.000000           8.000000\n",
       "50%       0.000000          6.000000           8.000000\n",
       "75%       0.000000         12.000000           9.000000\n",
       "max       2.000000         31.000000          10.000000"
      ]
     },
     "execution_count": 410,
     "metadata": {},
     "output_type": "execute_result"
    }
   ],
   "source": [
    "MarketSurvey2019.describe()"
   ]
  },
  {
   "cell_type": "code",
   "execution_count": 411,
   "metadata": {},
   "outputs": [
    {
     "data": {
      "text/plain": [
       "<seaborn.axisgrid.PairGrid at 0x1dea8aabf40>"
      ]
     },
     "execution_count": 411,
     "metadata": {},
     "output_type": "execute_result"
    },
    {
     "data": {
      "image/png": "[encoded data removed]",
      "text/plain": [
       "<Figure size 540x540 with 12 Axes>"
      ]
     },
     "metadata": {
      "needs_background": "light"
     },
     "output_type": "display_data"
    }
   ],
   "source": [
    "# Summary Grafik untuk EDA antar kolom\n",
    "sns.pairplot(MarketSurvey2019)"
   ]
  },
  {
   "cell_type": "code",
   "execution_count": 412,
   "metadata": {},
   "outputs": [
    {
     "data": {
      "text/plain": [
       "<AxesSubplot:>"
      ]
     },
     "execution_count": 412,
     "metadata": {},
     "output_type": "execute_result"
    },
    {
     "data": {
      "image/png": "[encoded data removed]",
      "text/plain": [
       "<Figure size 1440x1440 with 2 Axes>"
      ]
     },
     "metadata": {
      "needs_background": "light"
     },
     "output_type": "display_data"
    }
   ],
   "source": [
    "# Membuat Grafik Korelasi antar columns\n",
    "fig_dimensi = (20,20)\n",
    "fig, ax = plt.subplots(figsize=fig_dimensi)\n",
    "sns.heatmap(MarketSurvey2019.corr(),vmin=-1,vmax=1,annot=True, cmap='viridis')"
   ]
  },
  {
   "cell_type": "code",
   "execution_count": 413,
   "metadata": {},
   "outputs": [
    {
     "data": {
      "text/html": [
       "<div>\n",
       "<style scoped>\n",
       "    .dataframe tbody tr th:only-of-type {\n",
       "        vertical-align: middle;\n",
       "    }\n",
       "\n",
       "    .dataframe tbody tr th {\n",
       "        vertical-align: top;\n",
       "    }\n",
       "\n",
       "    .dataframe thead th {\n",
       "        text-align: right;\n",
       "    }\n",
       "</style>\n",
       "<table border=\"1\" class=\"dataframe\">\n",
       "  <thead>\n",
       "    <tr style=\"text-align: right;\">\n",
       "      <th></th>\n",
       "      <th>Category</th>\n",
       "      <th>StockProdRegular</th>\n",
       "      <th>ScoreLayananStock</th>\n",
       "    </tr>\n",
       "    <tr>\n",
       "      <th>IDRetailer</th>\n",
       "      <th></th>\n",
       "      <th></th>\n",
       "      <th></th>\n",
       "    </tr>\n",
       "  </thead>\n",
       "  <tbody>\n",
       "    <tr>\n",
       "      <th>1</th>\n",
       "      <td>2</td>\n",
       "      <td>8</td>\n",
       "      <td>7</td>\n",
       "    </tr>\n",
       "    <tr>\n",
       "      <th>2</th>\n",
       "      <td>2</td>\n",
       "      <td>5</td>\n",
       "      <td>8</td>\n",
       "    </tr>\n",
       "    <tr>\n",
       "      <th>3</th>\n",
       "      <td>2</td>\n",
       "      <td>6</td>\n",
       "      <td>7</td>\n",
       "    </tr>\n",
       "    <tr>\n",
       "      <th>5</th>\n",
       "      <td>2</td>\n",
       "      <td>5</td>\n",
       "      <td>8</td>\n",
       "    </tr>\n",
       "    <tr>\n",
       "      <th>6</th>\n",
       "      <td>2</td>\n",
       "      <td>3</td>\n",
       "      <td>8</td>\n",
       "    </tr>\n",
       "  </tbody>\n",
       "</table>\n",
       "</div>"
      ],
      "text/plain": [
       "            Category  StockProdRegular  ScoreLayananStock\n",
       "IDRetailer                                               \n",
       "1                  2                 8                  7\n",
       "2                  2                 5                  8\n",
       "3                  2                 6                  7\n",
       "5                  2                 5                  8\n",
       "6                  2                 3                  8"
      ]
     },
     "execution_count": 413,
     "metadata": {},
     "output_type": "execute_result"
    }
   ],
   "source": [
    "# Standarisasi Variable\n",
    "scaler = StandardScaler()\n",
    "scaled_survey = scaler.fit_transform(MarketSurvey2019[['Category','StockProdRegular','ScoreLayananStock']])\n",
    "#MarketSurvey2019['ScorePKBase'] = scaler.fit_transform(MarketSurvey2019[['ScorePKBase']])\n",
    "MarketSurvey2019.head()"
   ]
  },
  {
   "cell_type": "code",
   "execution_count": 414,
   "metadata": {},
   "outputs": [
    {
     "data": {
      "text/plain": [
       "Text(0, 0.5, 'ScoreLayananStock')"
      ]
     },
     "execution_count": 414,
     "metadata": {},
     "output_type": "execute_result"
    },
    {
     "data": {
      "image/png": "[encoded data removed]",
      "text/plain": [
       "<Figure size 432x288 with 1 Axes>"
      ]
     },
     "metadata": {
      "needs_background": "light"
     },
     "output_type": "display_data"
    }
   ],
   "source": [
    "# Dari Grafik di atas terlihat bahwa Retailer akan me-stock Regular produk berhubungan dengan adanya matpro1 (0,81) dan\n",
    "# Penjelasan atas produk knowlegde dari sales distributor (0,58)\n",
    "# Clustering me-stock Regular produk berhubungan dengan adanya matpro1\n",
    "# Di bawah ini kita akan buat asumsi cluster akan kita buat, misalnya secara random kita buat 3\n",
    "x = MarketSurvey2019.copy()\n",
    "kmeans = KMeans(3)\n",
    "\n",
    "#fit dengan datasurvey\n",
    "kmeans.fit(x)\n",
    "\n",
    "#membuat copy input dari datasurvey\n",
    "clusters = x.copy()\n",
    "#beri note untuk cluster predict\n",
    "clusters['cluster_pred'] = kmeans.fit_predict(x)\n",
    "\n",
    "#buat plot grafik untuk cluster 2 kolom\n",
    "plt.scatter(clusters['StockProdRegular'],clusters['ScoreLayananStock'],c=clusters['cluster_pred'],cmap='rainbow')\n",
    "plt.xlabel('StockProdRegular')\n",
    "plt.ylabel('ScoreLayananStock')"
   ]
  },
  {
   "cell_type": "code",
   "execution_count": 415,
   "metadata": {},
   "outputs": [
    {
     "data": {
      "text/plain": [
       "Text(0, 0.5, 'within Clusters Sum of Squares(WCSS)')"
      ]
     },
     "execution_count": 415,
     "metadata": {},
     "output_type": "execute_result"
    },
    {
     "data": {
      "image/png": "[encoded data removed]",
      "text/plain": [
       "<Figure size 720x360 with 1 Axes>"
      ]
     },
     "metadata": {
      "needs_background": "light"
     },
     "output_type": "display_data"
    }
   ],
   "source": [
    "# Membuat grafik elbow untuk menentukan jumlah cluster yang optimal\n",
    "wcss=[]\n",
    "\n",
    "for i in range(1, 11):\n",
    "    kmeans = KMeans(n_clusters = i, init = 'k-means++', \n",
    "                    max_iter = 300, n_init = 10, random_state = 42)\n",
    "    kmeans.fit(x)\n",
    "    wcss_iter=kmeans.inertia_\n",
    "    wcss.append(wcss_iter)\n",
    "    \n",
    "# Plotting hasil untuk observe 'The Elbow'\n",
    "plt.figure(figsize=(10,5))\n",
    "no_clusters=range(1,11)\n",
    "plt.plot(no_clusters, wcss,marker = \"o\")\n",
    "plt.title('The elbow method', fontweight=\"bold\")\n",
    "plt.xlabel('Number of clusters(K)')\n",
    "plt.ylabel('within Clusters Sum of Squares(WCSS)')"
   ]
  },
  {
   "cell_type": "code",
   "execution_count": 416,
   "metadata": {},
   "outputs": [
    {
     "name": "stdout",
     "output_type": "stream",
     "text": [
      "0.4100538302707564\n"
     ]
    }
   ],
   "source": [
    "# Mencari silhouette score to see if we have built a good model\n",
    "print(silhouette_score(clusters, kmeans.labels_, metric='euclidean'))\n"
   ]
  },
  {
   "cell_type": "code",
   "execution_count": 417,
   "metadata": {},
   "outputs": [],
   "source": [
    "# Karena nilai silhouette score nya 0.5 atau mendekati 1 mengartikan model kita sudah OK dan \n",
    "# melihat elbow grafiknya di number cluster 5 melandai maka\n",
    "\n",
    "#assign  clusters menjadi 5\n",
    "kmeans_new = KMeans(5)\n",
    "# Fit data survey\n",
    "kmeans_new.fit(x)\n",
    "# Create data frame baru dengan predicted clusters\n",
    "clusters_new = x.copy()\n",
    "clusters_new['cluster_pred'] = kmeans_new.fit_predict(x)\n"
   ]
  },
  {
   "cell_type": "code",
   "execution_count": 418,
   "metadata": {},
   "outputs": [
    {
     "data": {
      "text/html": [
       "<div>\n",
       "<style scoped>\n",
       "    .dataframe tbody tr th:only-of-type {\n",
       "        vertical-align: middle;\n",
       "    }\n",
       "\n",
       "    .dataframe tbody tr th {\n",
       "        vertical-align: top;\n",
       "    }\n",
       "\n",
       "    .dataframe thead th {\n",
       "        text-align: right;\n",
       "    }\n",
       "</style>\n",
       "<table border=\"1\" class=\"dataframe\">\n",
       "  <thead>\n",
       "    <tr style=\"text-align: right;\">\n",
       "      <th></th>\n",
       "      <th>Category</th>\n",
       "      <th>StockProdRegular</th>\n",
       "      <th>ScoreLayananStock</th>\n",
       "      <th>cluster_pred</th>\n",
       "    </tr>\n",
       "    <tr>\n",
       "      <th>IDRetailer</th>\n",
       "      <th></th>\n",
       "      <th></th>\n",
       "      <th></th>\n",
       "      <th></th>\n",
       "    </tr>\n",
       "  </thead>\n",
       "  <tbody>\n",
       "    <tr>\n",
       "      <th>1</th>\n",
       "      <td>2</td>\n",
       "      <td>8</td>\n",
       "      <td>7</td>\n",
       "      <td>2</td>\n",
       "    </tr>\n",
       "    <tr>\n",
       "      <th>2</th>\n",
       "      <td>2</td>\n",
       "      <td>5</td>\n",
       "      <td>8</td>\n",
       "      <td>1</td>\n",
       "    </tr>\n",
       "    <tr>\n",
       "      <th>3</th>\n",
       "      <td>2</td>\n",
       "      <td>6</td>\n",
       "      <td>7</td>\n",
       "      <td>1</td>\n",
       "    </tr>\n",
       "    <tr>\n",
       "      <th>5</th>\n",
       "      <td>2</td>\n",
       "      <td>5</td>\n",
       "      <td>8</td>\n",
       "      <td>1</td>\n",
       "    </tr>\n",
       "    <tr>\n",
       "      <th>6</th>\n",
       "      <td>2</td>\n",
       "      <td>3</td>\n",
       "      <td>8</td>\n",
       "      <td>1</td>\n",
       "    </tr>\n",
       "  </tbody>\n",
       "</table>\n",
       "</div>"
      ],
      "text/plain": [
       "            Category  StockProdRegular  ScoreLayananStock  cluster_pred\n",
       "IDRetailer                                                             \n",
       "1                  2                 8                  7             2\n",
       "2                  2                 5                  8             1\n",
       "3                  2                 6                  7             1\n",
       "5                  2                 5                  8             1\n",
       "6                  2                 3                  8             1"
      ]
     },
     "execution_count": 418,
     "metadata": {},
     "output_type": "execute_result"
    }
   ],
   "source": [
    "# Cek Data Survey dan clusteringnya\n",
    "clusters_new.head()"
   ]
  },
  {
   "cell_type": "code",
   "execution_count": 419,
   "metadata": {},
   "outputs": [
    {
     "data": {
      "text/plain": [
       "Text(0, 0.5, 'Score Layanan Stock')"
      ]
     },
     "execution_count": 419,
     "metadata": {},
     "output_type": "execute_result"
    },
    {
     "data": {
      "image/png": "[encoded data removed]",
      "text/plain": [
       "<Figure size 432x432 with 1 Axes>"
      ]
     },
     "metadata": {
      "needs_background": "light"
     },
     "output_type": "display_data"
    }
   ],
   "source": [
    "# Final Cluster dengan Analisanya\n",
    "plt.figure(figsize=(6,6))\n",
    "plt.scatter(clusters_new['StockProdRegular'],clusters_new['ScoreLayananStock'],c=clusters_new['cluster_pred'],cmap='rainbow')\n",
    "plt.title(\"Pembagian Cluster based on Stock Produk Regular dan Score Layanan Stock\", fontsize=15,fontweight=\"bold\")\n",
    "plt.xlabel(\"Stock Produk Regular\")\n",
    "plt.ylabel(\"Score Layanan Stock\")"
   ]
  },
  {
   "cell_type": "markdown",
   "metadata": {},
   "source": [
    "Dari hasil analisa cluster maka terdapat 5 cluster yang terdiri dari:\n",
    "1. Stock Produk Regular dan Score nya rendah\n",
    "2. Stock Produk Regular dan SCore nya tinggi\n",
    "3. Stock Produk Regularnya dan Score A nya sedang \n",
    "4. Stock Produk Regularnya Rendah tapi  Score nya tinggi\n",
    "5. Stock Produk Regularnya Tinggi tapi Score nya Rendah"
   ]
  }
 ],
 "metadata": {
  "interpreter": {
   "hash": "ac59ebe37160ed0dfa835113d9b8498d9f09ceb179beaac4002f036b9467c963"
  },
  "kernelspec": {
   "display_name": "Python 3.9.6 64-bit",
   "name": "python3"
  },
  "language_info": {
   "codemirror_mode": {
    "name": "ipython",
    "version": 3
   },
   "file_extension": ".py",
   "mimetype": "text/x-python",
   "name": "python",
   "nbconvert_exporter": "python",
   "pygments_lexer": "ipython3",
   "version": "3.9.6"
  },
  "orig_nbformat": 4
 },
 "nbformat": 4,
 "nbformat_minor": 2
}
